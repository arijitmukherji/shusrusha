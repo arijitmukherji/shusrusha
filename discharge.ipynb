{
 "cells": [
  {
   "cell_type": "code",
   "execution_count": null,
   "id": "d6b9e6f2",
   "metadata": {},
   "outputs": [],
   "source": [
    "## INITIALIZE ##\n",
    "from dotenv import load_dotenv\n",
    "import os\n",
    "from langgraph_app import app_graph\n",
    "from IPython.display import Markdown, display\n",
    "\n",
    "# Load environment variables from .env file in the current directory\n",
    "load_dotenv()\n",
    "\n",
    "# Enable automatic reloading\n",
    "%load_ext autoreload\n",
    "%autoreload 2"
   ]
  },
  {
   "cell_type": "code",
   "execution_count": null,
   "id": "e768ea91",
   "metadata": {},
   "outputs": [],
   "source": [
    "## OCR ##\n",
    "# Example: run the LangGraph workflow\n",
    "images = [\"images/page1.jpg\", \"images/page2.jpg\", \"images/page3.jpg\", \"images/page4.jpg\"]  # Replace with your actual image file paths\n",
    "markdown = app_graph.run_node(\"OCR\", images)\n",
    "display(Markdown(markdown))"
   ]
  },
  {
   "cell_type": "code",
   "execution_count": null,
   "id": "bca6402c",
   "metadata": {},
   "outputs": [],
   "source": [
    "## EXTRACT DIAGNOSES ##\n",
    "diagnoses = app_graph.run_node(\"ExtractDiagnoses\", model=\"gpt-4o-mini\")"
   ]
  },
  {
   "cell_type": "code",
   "execution_count": null,
   "id": "3998ee1c",
   "metadata": {},
   "outputs": [],
   "source": [
    "## EXTRACT MEDICATIONS ##\n",
    "medications = app_graph.run_node(\"ExtractMedications\", model=\"gpt-4o-mini\")\n"
   ]
  },
  {
   "cell_type": "code",
   "execution_count": null,
   "id": "b59b83d8",
   "metadata": {},
   "outputs": [],
   "source": [
    "## FIX MEDICATIONS ##\n",
    "fixed_medications = app_graph.run_node(\"FixMedications\", model=\"gpt-4o\")\n"
   ]
  },
  {
   "cell_type": "code",
   "execution_count": null,
   "id": "cc882bf4",
   "metadata": {},
   "outputs": [],
   "source": [
    "html_summary = app_graph.run_node(\"AddSummaryPills\")\n",
    "print(html_summary)"
   ]
  }
 ],
 "metadata": {
  "kernelspec": {
   "display_name": ".venv",
   "language": "python",
   "name": "python3"
  },
  "language_info": {
   "codemirror_mode": {
    "name": "ipython",
    "version": 3
   },
   "file_extension": ".py",
   "mimetype": "text/x-python",
   "name": "python",
   "nbconvert_exporter": "python",
   "pygments_lexer": "ipython3",
   "version": "3.11.9"
  }
 },
 "nbformat": 4,
 "nbformat_minor": 5
}
