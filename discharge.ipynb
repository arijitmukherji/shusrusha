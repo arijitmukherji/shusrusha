{
 "cells": [
  {
   "cell_type": "code",
   "execution_count": null,
   "id": "d6b9e6f2",
   "metadata": {},
   "outputs": [
    {
     "ename": "SyntaxError",
     "evalue": "expected 'else' after 'if' expression (langgraph_app.py, line 1006)",
     "output_type": "error",
     "traceback": [
      "Traceback \u001b[36m(most recent call last)\u001b[39m:\n",
      "  File \u001b[92m~/code/shusrusha/.venv/lib/python3.11/site-packages/IPython/core/interactiveshell.py:3699\u001b[39m in \u001b[95mrun_code\u001b[39m\n    exec(code_obj, self.user_global_ns, self.user_ns)\n",
      "\u001b[36m  \u001b[39m\u001b[36mCell\u001b[39m\u001b[36m \u001b[39m\u001b[32mIn[2]\u001b[39m\u001b[32m, line 4\u001b[39m\n\u001b[31m    \u001b[39m\u001b[31mfrom langgraph_app import app_graph\u001b[39m\n",
      "  \u001b[36mFile \u001b[39m\u001b[32m~/code/shusrusha/langgraph_app.py:1006\u001b[39m\n\u001b[31m    \u001b[39m\u001b[31mconfidence_indicator = f\" ({confidence}%)\" if confidence > 0\u001b[39m\n                           ^\n\u001b[31mSyntaxError\u001b[39m\u001b[31m:\u001b[39m expected 'else' after 'if' expression\n"
     ]
    }
   ],
   "source": [
    "## INITIALIZE ##\n",
    "from dotenv import load_dotenv\n",
    "import os\n",
    "from langgraph_app import app_graph\n",
    "from IPython.display import Markdown, display, HTML\n",
    "import pprint\n",
    "\n",
    "# Load environment variables from .env file in the current directory\n",
    "load_dotenv()\n",
    "\n",
    "# Enable automatic reloading\n",
    "%load_ext autoreload\n",
    "%autoreload 2"
   ]
  },
  {
   "cell_type": "code",
   "execution_count": null,
   "id": "e768ea91",
   "metadata": {},
   "outputs": [],
   "source": [
    "## OCR ##\n",
    "# Example: run the LangGraph workflow\n",
    "images = [\"images/page1.jpg\", \"images/page2.jpg\", \"images/page3.jpg\", \"images/page4.jpg\"]  # Replace with your actual image file paths\n",
    "markdown = app_graph.run_node(\"OCR\", images)\n",
    "display(Markdown(markdown))"
   ]
  },
  {
   "cell_type": "code",
   "execution_count": null,
   "id": "bca6402c",
   "metadata": {},
   "outputs": [],
   "source": [
    "## EXTRACT DIAGNOSES ##\n",
    "diagnoses = app_graph.run_node(\"ExtractDiagnoses\", model=\"gpt-4o-mini\")"
   ]
  },
  {
   "cell_type": "code",
   "execution_count": null,
   "id": "3998ee1c",
   "metadata": {},
   "outputs": [],
   "source": [
    "## EXTRACT MEDICATIONS ##\n",
    "medications = app_graph.run_node(\"ExtractMedications\", model=\"gpt-4o-mini\")\n"
   ]
  },
  {
   "cell_type": "code",
   "execution_count": null,
   "id": "b59b83d8",
   "metadata": {},
   "outputs": [],
   "source": [
    "## FIX MEDICATIONS ##\n",
    "fixed_medications = app_graph.run_node(\"FixMedications\", model=\"gpt-4o\")"
   ]
  },
  {
   "cell_type": "code",
   "execution_count": null,
   "id": "cc882bf4",
   "metadata": {},
   "outputs": [],
   "source": [
    "## GENERATE SUMMARY ##\n",
    "html_summary = app_graph.run_node(\"AddSummaryPills\")\n",
    "display(HTML(html_summary))"
   ]
  }
 ],
 "metadata": {
  "kernelspec": {
   "display_name": ".venv",
   "language": "python",
   "name": "python3"
  },
  "language_info": {
   "codemirror_mode": {
    "name": "ipython",
    "version": 3
   },
   "file_extension": ".py",
   "mimetype": "text/x-python",
   "name": "python",
   "nbconvert_exporter": "python",
   "pygments_lexer": "ipython3",
   "version": "3.11.9"
  }
 },
 "nbformat": 4,
 "nbformat_minor": 5
}
