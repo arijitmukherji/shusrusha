{
 "cells": [
  {
   "cell_type": "code",
   "execution_count": null,
   "id": "e87a20cd",
   "metadata": {},
   "outputs": [],
   "source": []
  },
  {
   "cell_type": "code",
   "execution_count": null,
   "id": "09829105",
   "metadata": {},
   "outputs": [],
   "source": [
    "from dotenv import load_dotenv\n",
    "import os\n",
    "\n",
    "# Load environment variables from .env file in the current directory\n",
    "load_dotenv()\n",
    "print(\"OPENAI_API_KEY:\", os.getenv(\"OPENAI_API_KEY\"))\n",
    "\n",
    "# Example: Access an environment variable\n",
    "# my_var = os.getenv('MY_VARIABLE')\n",
    "# print(my_var)\n"
   ]
  }
 ],
 "metadata": {
  "kernelspec": {
   "display_name": "shusrusha",
   "language": "python",
   "name": "python3"
  },
  "language_info": {
   "name": "python",
   "version": "3.10.9"
  }
 },
 "nbformat": 4,
 "nbformat_minor": 5
}
